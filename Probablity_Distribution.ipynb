{
  "nbformat": 4,
  "nbformat_minor": 0,
  "metadata": {
    "colab": {
      "provenance": [],
      "authorship_tag": "ABX9TyNRY467zNdDnLcUKWPR3IMk",
      "include_colab_link": true
    },
    "kernelspec": {
      "name": "python3",
      "display_name": "Python 3"
    },
    "language_info": {
      "name": "python"
    }
  },
  "cells": [
    {
      "cell_type": "markdown",
      "metadata": {
        "id": "view-in-github",
        "colab_type": "text"
      },
      "source": [
        "<a href=\"https://colab.research.google.com/github/mazidgaba/Data-Visualization/blob/main/Probablity_Distribution.ipynb\" target=\"_parent\"><img src=\"https://colab.research.google.com/assets/colab-badge.svg\" alt=\"Open In Colab\"/></a>"
      ]
    },
    {
      "cell_type": "code",
      "execution_count": null,
      "metadata": {
        "id": "0Gb_uKhYDZmn"
      },
      "outputs": [],
      "source": [
        "import scipy\n",
        "import numpy as np\n"
      ]
    },
    {
      "cell_type": "code",
      "source": [
        "from scipy.stats import binom"
      ],
      "metadata": {
        "id": "pv3JDJveEXd9"
      },
      "execution_count": null,
      "outputs": []
    },
    {
      "cell_type": "code",
      "source": [
        "print(binom.pmf(k=19,n=25,p=0.65))"
      ],
      "metadata": {
        "colab": {
          "base_uri": "https://localhost:8080/"
        },
        "id": "4fxumiqTEk2p",
        "outputId": "7311d12c-af69-4c52-f7d3-dc24bcefb42d"
      },
      "execution_count": null,
      "outputs": [
        {
          "output_type": "stream",
          "name": "stdout",
          "text": [
            "0.090777998593228\n"
          ]
        }
      ]
    },
    {
      "cell_type": "code",
      "source": [
        "binom.cdf (2,20,0.06)"
      ],
      "metadata": {
        "colab": {
          "base_uri": "https://localhost:8080/"
        },
        "id": "pGmedTGgEki7",
        "outputId": "b924dc25-f243-4f22-89a6-e29c2efa1d9f"
      },
      "execution_count": null,
      "outputs": [
        {
          "output_type": "execute_result",
          "data": {
            "text/plain": [
              "0.8850275957378549"
            ]
          },
          "metadata": {},
          "execution_count": 8
        }
      ]
    },
    {
      "cell_type": "markdown",
      "source": [
        "solve the binomial probablity for n=20, p=40, and x=10\n",
        "\n",
        "\n"
      ],
      "metadata": {
        "id": "7wBsUDLXFgBT"
      }
    },
    {
      "cell_type": "code",
      "source": [
        "print(binom.pmf(k=10,n=20,p=0.4))"
      ],
      "metadata": {
        "colab": {
          "base_uri": "https://localhost:8080/"
        },
        "id": "B0D6Q0CiFCEy",
        "outputId": "0d104f19-722b-44cd-da86-065329d48783"
      },
      "execution_count": null,
      "outputs": [
        {
          "output_type": "stream",
          "name": "stdout",
          "text": [
            "0.11714155053639005\n"
          ]
        }
      ]
    },
    {
      "cell_type": "markdown",
      "source": [
        "**Possion Distribution**"
      ],
      "metadata": {
        "id": "jMS-KVyXF09l"
      }
    },
    {
      "cell_type": "code",
      "source": [
        "from scipy.stats import poisson\n"
      ],
      "metadata": {
        "id": "aYcpFUDeFOmq"
      },
      "execution_count": null,
      "outputs": []
    },
    {
      "cell_type": "code",
      "source": [
        "poisson.pmf(3,2) #x=3 , Mean =2"
      ],
      "metadata": {
        "colab": {
          "base_uri": "https://localhost:8080/"
        },
        "id": "mq4SXmiRFOZc",
        "outputId": "683ccedd-44f8-45e8-e3d0-e58fca0abc9d"
      },
      "execution_count": null,
      "outputs": [
        {
          "output_type": "execute_result",
          "data": {
            "text/plain": [
              "0.18044704431548356"
            ]
          },
          "metadata": {},
          "execution_count": 11
        }
      ]
    },
    {
      "cell_type": "code",
      "source": [
        "poisson.pmf(5,3.2)"
      ],
      "metadata": {
        "colab": {
          "base_uri": "https://localhost:8080/"
        },
        "id": "pKj8CqEdFOLQ",
        "outputId": "2b246615-0a27-4a9d-a59f-3080746a8b60"
      },
      "execution_count": null,
      "outputs": [
        {
          "output_type": "execute_result",
          "data": {
            "text/plain": [
              "0.11397938346351824"
            ]
          },
          "metadata": {},
          "execution_count": 12
        }
      ]
    },
    {
      "cell_type": "code",
      "source": [
        "poisson.pmf(7,3.2)\n"
      ],
      "metadata": {
        "colab": {
          "base_uri": "https://localhost:8080/"
        },
        "id": "hi9Z2qYFIBxd",
        "outputId": "f3cfc126-1b36-4531-ef4b-cf7443ec1f9e"
      },
      "execution_count": null,
      "outputs": [
        {
          "output_type": "execute_result",
          "data": {
            "text/plain": [
              "0.027789259206343495"
            ]
          },
          "metadata": {},
          "execution_count": 15
        }
      ]
    },
    {
      "cell_type": "code",
      "source": [
        "prob=poisson.pmf(7,3.2)\n",
        "prob"
      ],
      "metadata": {
        "colab": {
          "base_uri": "https://localhost:8080/"
        },
        "id": "Zs1azsjvJ1Oe",
        "outputId": "6c99f111-2f97-456b-b3d3-38d0a5b46696"
      },
      "execution_count": null,
      "outputs": [
        {
          "output_type": "execute_result",
          "data": {
            "text/plain": [
              "0.027789259206343495"
            ]
          },
          "metadata": {},
          "execution_count": 17
        }
      ]
    },
    {
      "cell_type": "code",
      "source": [
        "prob_more_than_7 = 1-prob\n",
        "prob_more_than_7"
      ],
      "metadata": {
        "colab": {
          "base_uri": "https://localhost:8080/"
        },
        "id": "BQwOXaOhIZkZ",
        "outputId": "de6e8bbd-2ab6-4bd3-acd3-14ee08ad743c"
      },
      "execution_count": null,
      "outputs": [
        {
          "output_type": "execute_result",
          "data": {
            "text/plain": [
              "0.9722107407936565"
            ]
          },
          "metadata": {},
          "execution_count": 22
        }
      ]
    },
    {
      "cell_type": "code",
      "source": [
        "poisson.pmf(10,6.4)"
      ],
      "metadata": {
        "colab": {
          "base_uri": "https://localhost:8080/"
        },
        "id": "nVqq0hb7IZUF",
        "outputId": "5e14f636-66d1-4e1f-8be7-05218930b602"
      },
      "execution_count": null,
      "outputs": [
        {
          "output_type": "execute_result",
          "data": {
            "text/plain": [
              "0.052790043854115495"
            ]
          },
          "metadata": {},
          "execution_count": 23
        }
      ]
    },
    {
      "cell_type": "markdown",
      "source": [
        "**Uniform Distribution**"
      ],
      "metadata": {
        "id": "exXV3bJVKyMe"
      }
    },
    {
      "cell_type": "code",
      "source": [
        "U =np.arange(27,40,1)\n",
        "U"
      ],
      "metadata": {
        "colab": {
          "base_uri": "https://localhost:8080/"
        },
        "id": "PN0PQUzZIZCK",
        "outputId": "e7d49c38-4680-4fd2-f24c-067f1f00d4a2"
      },
      "execution_count": null,
      "outputs": [
        {
          "output_type": "execute_result",
          "data": {
            "text/plain": [
              "array([27, 28, 29, 30, 31, 32, 33, 34, 35, 36, 37, 38, 39])"
            ]
          },
          "metadata": {},
          "execution_count": 26
        }
      ]
    },
    {
      "cell_type": "code",
      "source": [
        "from scipy.stats import uniform\n",
        "uniform.mean(loc=27, scale=12)"
      ],
      "metadata": {
        "colab": {
          "base_uri": "https://localhost:8080/"
        },
        "id": "0KvWjp_gKhPk",
        "outputId": "bd486bcc-219c-4d1f-9fdc-1a300bb3c037"
      },
      "execution_count": null,
      "outputs": [
        {
          "output_type": "execute_result",
          "data": {
            "text/plain": [
              "33.0"
            ]
          },
          "metadata": {},
          "execution_count": 27
        }
      ]
    },
    {
      "cell_type": "code",
      "source": [
        "uniform.cdf (np.arange(30,36,1), loc=27, scale=12)"
      ],
      "metadata": {
        "colab": {
          "base_uri": "https://localhost:8080/"
        },
        "id": "bpm33KooKhDU",
        "outputId": "4b5ee19f-26ce-4f2b-c4b8-9fd260b702e8"
      },
      "execution_count": null,
      "outputs": [
        {
          "output_type": "execute_result",
          "data": {
            "text/plain": [
              "array([0.25      , 0.33333333, 0.41666667, 0.5       , 0.58333333,\n",
              "       0.66666667])"
            ]
          },
          "metadata": {},
          "execution_count": 28
        }
      ]
    },
    {
      "cell_type": "code",
      "source": [
        "prob =0.66666667- 0.25 #probablity b/w 20 and 35\n",
        "prob"
      ],
      "metadata": {
        "colab": {
          "base_uri": "https://localhost:8080/"
        },
        "id": "-AxcRhvMKg1v",
        "outputId": "df7fb364-55b8-40ee-ef8c-2cd814d80bb0"
      },
      "execution_count": null,
      "outputs": [
        {
          "output_type": "execute_result",
          "data": {
            "text/plain": [
              "0.41666667"
            ]
          },
          "metadata": {},
          "execution_count": 29
        }
      ]
    },
    {
      "cell_type": "markdown",
      "source": [
        "According to the National Association of Insurance Commissioners, the average annual cost for automobile insurance in the United States in a recent year was$691. Suppose automobile insurance costs are uniformly distributed in the United States with a range from$200 to$1,182. What is the standard deviation of this uniform distribution? What is the height of the distribution? What is the probability that a person’s annual cost for automobile insurance in the United States is between$410 and$825?"
      ],
      "metadata": {
        "id": "VOiKnI8fPfDo"
      }
    },
    {
      "cell_type": "code",
      "source": [
        "uniform.mean(loc=200, scale=982)"
      ],
      "metadata": {
        "colab": {
          "base_uri": "https://localhost:8080/"
        },
        "id": "0NOH9-jEOriU",
        "outputId": "c65c7c48-6870-400f-a2c4-6859e0f8ffb6"
      },
      "execution_count": null,
      "outputs": [
        {
          "output_type": "execute_result",
          "data": {
            "text/plain": [
              "691.0"
            ]
          },
          "metadata": {},
          "execution_count": 30
        }
      ]
    },
    {
      "cell_type": "code",
      "source": [
        "uniform.std(loc=200, scale=982)"
      ],
      "metadata": {
        "colab": {
          "base_uri": "https://localhost:8080/"
        },
        "id": "yraVUhWuOre8",
        "outputId": "549dcc66-32db-4219-9a28-a58a760f081b"
      },
      "execution_count": null,
      "outputs": [
        {
          "output_type": "execute_result",
          "data": {
            "text/plain": [
              "283.4789821721062"
            ]
          },
          "metadata": {},
          "execution_count": 31
        }
      ]
    },
    {
      "cell_type": "markdown",
      "source": [
        "**Normal Distribution**"
      ],
      "metadata": {
        "id": "cByxZ7UCQVAu"
      }
    },
    {
      "cell_type": "code",
      "source": [
        "from scipy.stats import norm"
      ],
      "metadata": {
        "id": "FaQGkTMDOrcu"
      },
      "execution_count": null,
      "outputs": []
    },
    {
      "cell_type": "code",
      "source": [
        "val, m,s =68, 65.5, 2.5"
      ],
      "metadata": {
        "id": "MNn-saOyOraG"
      },
      "execution_count": null,
      "outputs": []
    },
    {
      "cell_type": "code",
      "source": [
        "print (norm.cdf(val,m,s))"
      ],
      "metadata": {
        "colab": {
          "base_uri": "https://localhost:8080/"
        },
        "id": "MW4XIRKbOrXS",
        "outputId": "7ed9ba19-1dc8-441f-84c8-d99115b77f5e"
      },
      "execution_count": null,
      "outputs": [
        {
          "output_type": "stream",
          "name": "stdout",
          "text": [
            "0.8413447460685429\n"
          ]
        }
      ]
    },
    {
      "cell_type": "markdown",
      "source": [
        "**if cdf(x>val)**"
      ],
      "metadata": {
        "id": "cZOVs4GmRnKD"
      }
    },
    {
      "cell_type": "markdown",
      "source": [],
      "metadata": {
        "id": "4NEh1f5VRms6"
      }
    },
    {
      "cell_type": "code",
      "source": [
        "print (1-norm.cdf(val,m,s))"
      ],
      "metadata": {
        "colab": {
          "base_uri": "https://localhost:8080/"
        },
        "id": "Be4fKeGXOrMj",
        "outputId": "7fbdd33f-ec7c-47d7-9e42-fa336f4bb083"
      },
      "execution_count": null,
      "outputs": [
        {
          "output_type": "stream",
          "name": "stdout",
          "text": [
            "0.15865525393145707\n"
          ]
        }
      ]
    },
    {
      "cell_type": "markdown",
      "source": [
        "cdf(val1 < x Val2)"
      ],
      "metadata": {
        "id": "WgBLd9cFRycH"
      }
    },
    {
      "cell_type": "code",
      "source": [
        "print (norm.cdf(val,m,s) - norm.cdf(63,m,s))"
      ],
      "metadata": {
        "colab": {
          "base_uri": "https://localhost:8080/"
        },
        "id": "0jDjjjXHROi9",
        "outputId": "6a246bd2-464b-427f-842c-38c47f69cd03"
      },
      "execution_count": null,
      "outputs": [
        {
          "output_type": "stream",
          "name": "stdout",
          "text": [
            "0.6826894921370859\n"
          ]
        }
      ]
    },
    {
      "cell_type": "markdown",
      "source": [
        "p(x>700 m=494 and s=100) =?"
      ],
      "metadata": {
        "id": "QyzE8QINSnKB"
      }
    },
    {
      "cell_type": "code",
      "source": [
        "print (1-norm.cdf(700,494,100))"
      ],
      "metadata": {
        "colab": {
          "base_uri": "https://localhost:8080/"
        },
        "id": "jJBZbIMrROfu",
        "outputId": "2d6e4c01-a944-417f-a383-c78f4e5c0e26"
      },
      "execution_count": null,
      "outputs": [
        {
          "output_type": "stream",
          "name": "stdout",
          "text": [
            "0.019699270409376912\n"
          ]
        }
      ]
    },
    {
      "cell_type": "code",
      "source": [
        "print (norm.cdf(550,494,100))"
      ],
      "metadata": {
        "colab": {
          "base_uri": "https://localhost:8080/"
        },
        "id": "8zcqzhRaROdR",
        "outputId": "5b373942-e207-46dd-ba4d-93698f20f3a5"
      },
      "execution_count": null,
      "outputs": [
        {
          "output_type": "stream",
          "name": "stdout",
          "text": [
            "0.712260281150973\n"
          ]
        }
      ]
    },
    {
      "cell_type": "code",
      "source": [
        "print (norm.cdf(600,494,100) - norm.cdf(300,494,100))"
      ],
      "metadata": {
        "colab": {
          "base_uri": "https://localhost:8080/"
        },
        "id": "UjAoz1z3ROac",
        "outputId": "70a0cbbd-f047-4c65-b4f6-956114abe334"
      },
      "execution_count": null,
      "outputs": [
        {
          "output_type": "stream",
          "name": "stdout",
          "text": [
            "0.8292378553956377\n"
          ]
        }
      ]
    },
    {
      "cell_type": "code",
      "source": [
        "print (norm.cdf(450,494,100) - norm.cdf(350,494,100))"
      ],
      "metadata": {
        "colab": {
          "base_uri": "https://localhost:8080/"
        },
        "id": "YWM3e7CbROYV",
        "outputId": "38701718-6c45-43b2-eaaf-aefb1390d740"
      },
      "execution_count": null,
      "outputs": [
        {
          "output_type": "stream",
          "name": "stdout",
          "text": [
            "0.2550348541262666\n"
          ]
        }
      ]
    },
    {
      "cell_type": "code",
      "source": [
        "norm.ppf(0.95) #areq under .95 coreesponding Z value is"
      ],
      "metadata": {
        "colab": {
          "base_uri": "https://localhost:8080/"
        },
        "id": "A3PR7IZeUzVz",
        "outputId": "2924a352-0452-4114-d46f-0514cd85e21d"
      },
      "execution_count": null,
      "outputs": [
        {
          "output_type": "execute_result",
          "data": {
            "text/plain": [
              "1.6448536269514722"
            ]
          },
          "metadata": {},
          "execution_count": 54
        }
      ]
    },
    {
      "cell_type": "code",
      "source": [
        "norm.ppf(1-.6772) #left hand side\n"
      ],
      "metadata": {
        "colab": {
          "base_uri": "https://localhost:8080/"
        },
        "id": "lJRCMer_UzSE",
        "outputId": "647c0539-af4d-4653-8209-f03f30f19181"
      },
      "execution_count": null,
      "outputs": [
        {
          "output_type": "execute_result",
          "data": {
            "text/plain": [
              "-0.45988328292440145"
            ]
          },
          "metadata": {},
          "execution_count": 56
        }
      ]
    },
    {
      "cell_type": "markdown",
      "source": [
        "**Hypergeometric Distribution**"
      ],
      "metadata": {
        "id": "He1Xqj8-VNi4"
      }
    },
    {
      "cell_type": "markdown",
      "source": [
        "Suppose 18 major computer companies operate in the United States and that 12 are located in California’s Silicon Valley. If three computer companies are selected randomly from the entire list, what is the probability that one or more of the selected companies are located in the Silicon Valley?"
      ],
      "metadata": {
        "id": "BSmHmz_4WgDa"
      }
    }
  ]
}